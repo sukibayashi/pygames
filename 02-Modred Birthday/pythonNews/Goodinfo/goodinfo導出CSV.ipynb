{
 "cells": [
  {
   "cell_type": "code",
   "execution_count": 13,
   "metadata": {},
   "outputs": [
    {
     "name": "stdout",
     "output_type": "stream",
     "text": [
      "導出成功\n"
     ]
    }
   ],
   "source": [
    "import pandas as pd\n",
    "import numpy as np\n",
    "import sqlite3\n",
    "\n",
    "\n",
    "# 連接到資料庫A ====================================================================\n",
    "conn = sqlite3.connect('goodinfoRevenue.db')\n",
    "# cursor object\n",
    "cursor = conn.cursor()\n",
    "\n",
    "sql = '''select * from revenue t'''\n",
    "\n",
    "df = pd.read_sql(sql,conn)\n",
    "df2 = df.copy()\n",
    "df2.columns = ['代碼','月別','開盤','收盤','最高','最低','漲跌(元)','漲跌(%)','營收(億)','月增(%)','年增(%)','累計營收(億)','累計年增(%)']\n",
    "\n",
    "# # 今日新闻\n",
    "# newsToday = pd.Timestamp.today().strftime(\"%Y-%m-%d\") # 格式化日期\n",
    "# df_mask = df3['date']==newsToday            # 日期為今天的存檔\n",
    "# # df_mask = df3['date']=='2022-08-29'           # 日期為今天的存檔\n",
    "# positions = np.flatnonzero(df_mask)\n",
    "# filtered_df=df3.iloc[positions]\n",
    "\n",
    "# newsToday2 = pd.Timestamp.today().strftime(\"%Y%m%d\")\n",
    "# filtered_df.to_csv(f\"/content/drive/MyDrive/anuenews/csv/{newsToday2}鉅亨新聞.csv\", encoding=\"big5hkscs\",index=False)\n",
    "# # df3.to_csv(f\"/content/drive/MyDrive/anuenews/csv/{newsToday2}鉅亨新聞.csv\", encoding=\"big5hkscs\",index=False)\n",
    "\n",
    "# print(f'{newsToday2}導出成功')\n",
    "\n",
    "df2.to_csv(f\"goodinfo營收統計.csv\", encoding=\"big5hkscs\",index=False)\n",
    "print('導出成功')\n",
    "\n"
   ]
  },
  {
   "cell_type": "code",
   "execution_count": null,
   "metadata": {},
   "outputs": [],
   "source": []
  }
 ],
 "metadata": {
  "kernelspec": {
   "display_name": "Python 3.10.6 64-bit (windows store)",
   "language": "python",
   "name": "python3"
  },
  "language_info": {
   "codemirror_mode": {
    "name": "ipython",
    "version": 3
   },
   "file_extension": ".py",
   "mimetype": "text/x-python",
   "name": "python",
   "nbconvert_exporter": "python",
   "pygments_lexer": "ipython3",
   "version": "3.10.6"
  },
  "orig_nbformat": 4,
  "vscode": {
   "interpreter": {
    "hash": "0d17bd3c188470cc3cbfd93c90c2f8b3f5ab1a762ae997509e3112b6584543eb"
   }
  }
 },
 "nbformat": 4,
 "nbformat_minor": 2
}
